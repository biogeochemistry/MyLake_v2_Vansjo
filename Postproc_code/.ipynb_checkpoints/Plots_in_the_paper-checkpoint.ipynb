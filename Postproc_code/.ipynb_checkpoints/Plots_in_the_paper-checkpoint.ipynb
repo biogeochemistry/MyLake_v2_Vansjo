{
 "cells": [
  {
   "cell_type": "code",
   "execution_count": 1,
   "metadata": {
    "collapsed": false
   },
   "outputs": [
    {
     "data": {
      "text/plain": [
       "'2017-08-02 18:11:48.822469'"
      ]
     },
     "execution_count": 1,
     "metadata": {},
     "output_type": "execute_result"
    }
   ],
   "source": [
    "import matplotlib.pyplot as plt\n",
    "import numpy as np\n",
    "import matplotlib.ticker as tkr\n",
    "import matplotlib.dates as mdates\n",
    "import datetime\n",
    "from matplotlib.colors import ListedColormap\n",
    "import seaborn as sns\n",
    "sns.set_style(\"whitegrid\")\n",
    "sns.set_style(\"ticks\")\n",
    "import scipy.io as sio\n",
    "import cmocean\n",
    "\n",
    "import sys\n",
    "sys.path.append('../')\n",
    "\n",
    "\n",
    "from ploting import *\n",
    "import data\n",
    "\n",
    "%matplotlib inline\n",
    "\n",
    "pd.options.display.max_columns = 999\n",
    "pd.options.display.max_rows = 100\n",
    "\n",
    "\n",
    "from datetime import datetime\n",
    "str(datetime.now())\n"
   ]
  },
  {
   "cell_type": "code",
   "execution_count": 18,
   "metadata": {
    "collapsed": false
   },
   "outputs": [
    {
     "name": "stderr",
     "output_type": "stream",
     "text": [
      "/Users/MarkelovIgor/anaconda/lib/python3.5/site-packages/matplotlib/__init__.py:1401: UserWarning:  This call to matplotlib.use() has no effect\n",
      "because the backend has already been chosen;\n",
      "matplotlib.use() must be called *before* pylab, matplotlib.pyplot,\n",
      "or matplotlib.backends is imported for the first time.\n",
      "\n",
      "  warnings.warn(_use_error_msg)\n",
      "/Users/MarkelovIgor/anaconda/lib/python3.5/site-packages/matplotlib/__init__.py:913: UserWarning: text.fontsize is deprecated and replaced with font.size; please use the latter.\n",
      "  warnings.warn(self.msg_depr % (key, alt_key))\n"
     ]
    }
   ],
   "source": [
    "import numpy as np\n",
    "import matplotlib as mpl\n",
    "mpl.use('pgf')\n",
    "\n",
    "def figsize(scale):\n",
    "    fig_width_pt = 469.755                          # Get this from LaTeX using \\the\\textwidth\n",
    "    inches_per_pt = 1.0/72.27                       # Convert pt to inch\n",
    "    golden_mean = (np.sqrt(5.0)-1.0)/2.0            # Aesthetic ratio (you could change this)\n",
    "    fig_width = fig_width_pt*inches_per_pt*scale    # width in inches\n",
    "    fig_height = fig_width*golden_mean              # height in inches\n",
    "    fig_size = [fig_width,fig_height]\n",
    "    return fig_size\n",
    "\n",
    "pgf_with_latex = {                      # setup matplotlib to use latex for output\n",
    "    \"pgf.texsystem\": \"pdflatex\",        # change this if using xetex or lautex\n",
    "    \"text.usetex\": True,                # use LaTeX to write all text\n",
    "    \"font.family\": \"serif\",\n",
    "    \"font.serif\": [],                   # blank entries should cause plots to inherit fonts from the document\n",
    "    \"font.sans-serif\": [],\n",
    "    \"font.monospace\": [],\n",
    "    \"axes.labelsize\": 10,               # LaTeX default is 10pt font.\n",
    "    \"text.fontsize\": 10,\n",
    "    \"legend.fontsize\": 8,               # Make the legend/label fonts a little smaller\n",
    "    \"xtick.labelsize\": 8,\n",
    "    \"ytick.labelsize\": 8,\n",
    "    \"figure.figsize\": figsize(0.9),     # default fig size of 0.9 textwidth\n",
    "    \"pgf.preamble\": [\n",
    "        r\"\\usepackage[utf8x]{inputenc}\",    # use utf8 fonts becasue your computer can handle it :)\n",
    "        r\"\\usepackage[T1]{fontenc}\",        # plots will be generated using this preamble\n",
    "        ]\n",
    "    }\n",
    "mpl.rcParams.update(pgf_with_latex)\n",
    "\n",
    "import matplotlib.pyplot as plt\n",
    "\n",
    "# I make my own newfig and savefig functions\n",
    "def newfig(width):\n",
    "    plt.clf()\n",
    "    fig = plt.figure(figsize=figsize(width))\n",
    "    ax = fig.add_subplot(111)\n",
    "    return fig, ax\n",
    "\n",
    "def newfig_sub(width):\n",
    "    plt.clf()\n",
    "    fig, axes = plt.subplots(4, 1,figsize=figsize(width))\n",
    "    return fig, axes\n",
    "\n",
    "def savefig(filename):\n",
    "    plt.savefig('{}.pgf'.format(filename))\n",
    "    plt.savefig('{}.pdf'.format(filename))\n"
   ]
  },
  {
   "cell_type": "code",
   "execution_count": 2,
   "metadata": {
    "collapsed": false
   },
   "outputs": [
    {
     "name": "stderr",
     "output_type": "stream",
     "text": [
      "/Users/MarkelovIgor/git/biogeochemistry/MyLake_v2_Vansjo/Postproc_code/data.py:9: FutureWarning: convert_objects is deprecated.  Use the data-type specific converters pd.to_datetime, pd.to_timedelta and pd.to_numeric.\n",
      "  df = df.convert_objects(convert_numeric=True)\n"
     ]
    }
   ],
   "source": [
    "df = data.read_data('Vansjo/VAN1_data_2017_02_28_10_55.xlsx')\n",
    "plotter = ResultsPlotter(f='../IO/MyLakeResults.mat')"
   ]
  },
  {
   "cell_type": "markdown",
   "metadata": {},
   "source": [
    "### Calibration period"
   ]
  },
  {
   "cell_type": "code",
   "execution_count": 19,
   "metadata": {
    "collapsed": false
   },
   "outputs": [
    {
     "data": {
      "text/plain": [
       "<matplotlib.figure.Figure at 0x11b1ef8d0>"
      ]
     },
     "metadata": {},
     "output_type": "display_data"
    },
    {
     "data": {
      "image/png": "[encoded data removed]",
      "text/plain": [
       "<matplotlib.figure.Figure at 0x117d1e240>"
      ]
     },
     "metadata": {},
     "output_type": "display_data"
    }
   ],
   "source": [
    "fig, axes = newfig_sub(0.45)\n",
    "\n",
    "results = plotter.env_getter('water-column', basin=1)\n",
    "\n",
    "inx = np.where(results['z'][0, 0] == 4)[0][0]\n",
    "TOTP = np.mean(results['concentrations'][0, 0]['P'][0, 0][0:inx, :], axis=0) + \\\n",
    "    np.mean(results['concentrations'][0, 0]['PP'][0, 0][0:inx, :], axis=0) + \\\n",
    "    np.mean(results['concentrations'][0, 0]['DOP'][0, 0][0:inx, :], axis=0) + \\\n",
    "    np.mean(results['concentrations'][0, 0]['POP'][0, 0][0:inx, :], axis=0)\n",
    "Chl = np.mean(results['concentrations'][0, 0]['C'][0, 0][0:inx, :], axis=0) + np.mean(results['concentrations'][0, 0]['Chl']\n",
    "                                                                                      [0, 0][0:inx, :], axis=0)\n",
    "PO4 = np.mean(results['concentrations'][0, 0]['P'][0, 0][0:inx, :], axis=0)\n",
    "Part = np.mean(results['concentrations'][0, 0]['POP'][0, 0][0:inx, :], axis=0) + np.mean(results['concentrations'][0, 0]['PP'][0, 0][0:inx, :], axis=0)\n",
    "\n",
    "\n",
    "axes[0].plot(-366 + results['days'][0, 0][0], TOTP, c=sns.xkcd_rgb[\"denim blue\"], lw=1, label='Total P')\n",
    "axes[1].plot(-366 + results['days'][0, 0][0], Chl, c=sns.xkcd_rgb[\"denim blue\"], lw=1, label='Chl-a')\n",
    "axes[2].plot(-366 + results['days'][0, 0][0], PO4, c=sns.xkcd_rgb[\"denim blue\"], lw=1, label='PO_4')\n",
    "axes[3].plot(-366 + results['days'][0, 0][0], Part, c=sns.xkcd_rgb[\"denim blue\"], lw=1, label='POP')\n",
    "\n",
    "\n",
    "TOTP = np.loadtxt('../obs/store_obs/TOTP.dat', delimiter=',')\n",
    "Chl = np.loadtxt('../obs/store_obs/Cha_aquaM_march_2017.dat', delimiter=',')\n",
    "PO4 = np.loadtxt('../obs/store_obs/PO4.dat', delimiter=',')\n",
    "Part = np.loadtxt('../obs/store_obs/Part.dat', delimiter=',')\n",
    "axes[0].plot(-366 + TOTP[:, 0], TOTP[:, 1], 'bo', c=sns.xkcd_rgb[\"pale red\"], markersize=1)\n",
    "axes[1].plot(-366 + Chl[:, 0], Chl[:, 1], 'bo', c=sns.xkcd_rgb[\"pale red\"], markersize=1)\n",
    "axes[2].plot(-366 + PO4[:, 0], PO4[:, 1], 'bo', c=sns.xkcd_rgb[\"pale red\"], markersize=1)\n",
    "axes[3].plot(-366 + Part[:, 0], Part[:, 1], 'bo', c=sns.xkcd_rgb[\"pale red\"], markersize=1)\n",
    "\n",
    "axes[3].xaxis.set_major_locator(mdates.MonthLocator(interval=12))\n",
    "axes[3].xaxis.set_major_formatter(mdates.DateFormatter('%b\\n%Y'))\n",
    "axes[1].set_xlim([732313 - 366, 735234 - 366 * 4])\n",
    "\n",
    "for ax in axes:\n",
    "    ax.grid(linestyle='-', linewidth=0.2)\n",
    "    ax.set_ylim([0, 50])\n",
    "    ax.set_ylabel(r'$[mg / m^3]$')\n",
    "    ax.legend(loc=1, frameon=1)\n",
    "\n",
    "\n",
    "savefig('test')"
   ]
  },
  {
   "cell_type": "code",
   "execution_count": null,
   "metadata": {
    "collapsed": true
   },
   "outputs": [],
   "source": []
  }
 ],
 "metadata": {
  "kernelspec": {
   "display_name": "Python [conda root]",
   "language": "python",
   "name": "conda-root-py"
  },
  "language_info": {
   "codemirror_mode": {
    "name": "ipython",
    "version": 3
   },
   "file_extension": ".py",
   "mimetype": "text/x-python",
   "name": "python",
   "nbconvert_exporter": "python",
   "pygments_lexer": "ipython3",
   "version": "3.5.2"
  }
 },
 "nbformat": 4,
 "nbformat_minor": 1
}
