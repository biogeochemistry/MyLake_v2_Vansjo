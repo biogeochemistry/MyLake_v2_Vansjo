{
 "cells": [
  {
   "cell_type": "code",
   "execution_count": 1,
   "metadata": {},
   "outputs": [
    {
     "name": "stderr",
     "output_type": "stream",
     "text": [
      "/Users/imarkelo/anaconda3/lib/python3.6/site-packages/h5py/__init__.py:34: FutureWarning: Conversion of the second argument of issubdtype from `float` to `np.floating` is deprecated. In future, it will be treated as `np.float64 == np.dtype(float).type`.\n",
      "  from ._conv import register_converters as _register_converters\n"
     ]
    }
   ],
   "source": [
    "from extra_methods import P_rates_sediments, P_wc_rates, boundary_P_fluxes, savefig, integrated_over_depth_masses"
   ]
  },
  {
   "cell_type": "code",
   "execution_count": 2,
   "metadata": {},
   "outputs": [
    {
     "name": "stderr",
     "output_type": "stream",
     "text": [
      "/Users/imarkelo/anaconda3/lib/python3.6/site-packages/cmocean/tools.py:76: MatplotlibDeprecationWarning: The is_string_like function was deprecated in version 2.1.\n",
      "  if not mpl.cbook.is_string_like(rgbin[0]):\n"
     ]
    }
   ],
   "source": [
    "import matplotlib.pyplot as plt\n",
    "import numpy as np\n",
    "\n",
    "from matplotlib import rc\n",
    "import matplotlib.ticker as tkr\n",
    "import matplotlib.dates as mdates\n",
    "from datetime import datetime, timedelta\n",
    "from matplotlib.colors import ListedColormap\n",
    "import seaborn as sns\n",
    "sns.set_style(\"whitegrid\")\n",
    "sns.set_style(\"ticks\")\n",
    "import scipy.io as sio\n",
    "import cmocean\n",
    "\n",
    "import sys\n",
    "sys.path.append('../')\n",
    "\n",
    "\n",
    "from ploting import *\n",
    "import data\n",
    "\n",
    "%matplotlib inline\n",
    "\n",
    "\n",
    "sns.set_style(\"whitegrid\")\n",
    "sns.set_style(\"ticks\")\n",
    "\n",
    "rc('font', **{'family': 'sans-serif', 'sans-serif': ['Helvetica']})\n",
    "rc('text', usetex=True)\n",
    "rc(\"savefig\", dpi=300)\n",
    "rc(\"figure\", dpi=192)\n",
    "\n",
    "plt.rcParams['figure.figsize'] = 6, 4\n",
    "\n",
    "\n",
    "pd.options.display.max_columns = 999\n",
    "pd.options.display.max_rows = 400\n",
    "\n",
    "\n",
    "from datetime import datetime\n",
    "str(datetime.now())\n",
    "\n",
    "import h5py\n"
   ]
  },
  {
   "cell_type": "code",
   "execution_count": 3,
   "metadata": {},
   "outputs": [
    {
     "data": {
      "text/plain": [
       "'2018-06-08 15:09:52.704042'"
      ]
     },
     "execution_count": 3,
     "metadata": {},
     "output_type": "execute_result"
    }
   ],
   "source": [
    "RCP8_IPSL_plotter = h5py.File('/Volumes/Igor EcoHDD/Scenarios/192ts_T_only_RCP8_IPSL_17m_sediment_2015_2070.mat', 'r')\n",
    "RCP4_IPSL_plotter = h5py.File('/Volumes/Igor EcoHDD/Scenarios/192ts_T_only_RCP4_IPSL_17m_sediment_2015_2070.mat', 'r')\n",
    "RCP8_GFDL_plotter = h5py.File('/Volumes/Igor EcoHDD/Scenarios/192ts_T_only_RCP8_GFDL_17m_sediment_2015_2070.mat', 'r')\n",
    "RCP4_GFDL_plotter = h5py.File('/Volumes/Igor EcoHDD/Scenarios/192ts_T_only_RCP4_GFDL_17m_sediment_2015_2070.mat', 'r')\n",
    "RCP8_NorESM_plotter = h5py.File('/Volumes/Igor EcoHDD/Scenarios/192ts_T_only_RCP85_NorESM_17m_sediment_2015_2070.mat', 'r')\n",
    "RCP4_NorESM_plotter = h5py.File('/Volumes/Igor EcoHDD/Scenarios/192ts_T_only_RCP45_NorESM_17m_sediment_2015_2070.mat', 'r')\n",
    "hist_20y_plotter = h5py.File('/Volumes/Igor EcoHDD/Scenarios/192ts_T_only_full_scen_base_historical_20y_17m_sediment_2015_2070.mat', 'r')\n",
    "str(datetime.now())\n"
   ]
  },
  {
   "cell_type": "code",
   "execution_count": 4,
   "metadata": {},
   "outputs": [
    {
     "data": {
      "text/plain": [
       "{'DOP_inflow': 0.33042106364809465,\n",
       " 'DOP_outflow': 0.2106271905296373,\n",
       " 'POP_inflow': 1.3997221204709809,\n",
       " 'POP_outflow': 0.23189366993072758,\n",
       " 'PP_outflow': 0.005530311205228146,\n",
       " 'P_outflow': 0.26372659652367497,\n",
       " 'Phy_outflow': 0.06042532283641373,\n",
       " 'TP_inflow': 1.730143184119075}"
      ]
     },
     "execution_count": 4,
     "metadata": {},
     "output_type": "execute_result"
    }
   ],
   "source": [
    "boundary_P_fluxes(RCP8_IPSL_plotter)"
   ]
  },
  {
   "cell_type": "code",
   "execution_count": 5,
   "metadata": {
    "collapsed": true
   },
   "outputs": [],
   "source": [
    "scenarios = [RCP8_IPSL_plotter, RCP4_IPSL_plotter, RCP8_GFDL_plotter, RCP4_GFDL_plotter, RCP8_NorESM_plotter, RCP4_NorESM_plotter]"
   ]
  },
  {
   "cell_type": "code",
   "execution_count": 6,
   "metadata": {},
   "outputs": [
    {
     "data": {
      "text/plain": [
       "{'DOP_inflow': 0.33042106364809465,\n",
       " 'DOP_outflow': 0.22503413421849114,\n",
       " 'POP_inflow': 1.3997221204709809,\n",
       " 'POP_outflow': 0.20733919242575252,\n",
       " 'PP_outflow': 0.00377136175810967,\n",
       " 'P_outflow': 0.24170237985670578,\n",
       " 'Phy_outflow': 0.04927196762817321,\n",
       " 'TP_inflow': 1.730143184119075}"
      ]
     },
     "execution_count": 6,
     "metadata": {},
     "output_type": "execute_result"
    }
   ],
   "source": [
    "boundary_P_fluxes(hist_20y_plotter)"
   ]
  },
  {
   "cell_type": "code",
   "execution_count": 7,
   "metadata": {},
   "outputs": [
    {
     "name": "stdout",
     "output_type": "stream",
     "text": [
      "DOP_inflow 0.33042106364809465\n",
      "DOP_outflow 0.21796425246556453\n",
      "POP_inflow 1.399722120470981\n",
      "POP_outflow 0.22713849174465137\n",
      "PP_outflow 0.0049214888033603625\n",
      "P_outflow 0.254452408335414\n",
      "Phy_outflow 0.055327673318853625\n",
      "TP_inflow 1.7301431841190753\n"
     ]
    }
   ],
   "source": [
    "for k in sorted(boundary_P_fluxes(RCP8_IPSL_plotter)):\n",
    "    s=0\n",
    "    for scen in scenarios:\n",
    "        s+=boundary_P_fluxes(scen)[k]\n",
    "    print(k, s/len(scenarios))"
   ]
  },
  {
   "cell_type": "code",
   "execution_count": 11,
   "metadata": {},
   "outputs": [
    {
     "data": {
      "text/plain": [
       "{'C': 0.036178798350249994,\n",
       " 'Ca3PO42_sed': 313.0490910937126,\n",
       " 'Chl': 0.1031873157511242,\n",
       " 'DOP': 1.2569589123160827,\n",
       " 'Fe3PO42_sed': 613.7396489360045,\n",
       " 'P': 2.0296938769726913,\n",
       " 'PO4': 0.4413075821144545,\n",
       " 'PO4adsa_sed': 168.4799167940629,\n",
       " 'PO4adsb_sed': 0.0018869535030721176,\n",
       " 'PO4adsc_sed': 1080.6115135660955,\n",
       " 'POP': 1.842362747423589,\n",
       " 'POP_sed': 885.2552164568017,\n",
       " 'PP': 0.056149941666235555}"
      ]
     },
     "execution_count": 11,
     "metadata": {},
     "output_type": "execute_result"
    }
   ],
   "source": [
    "x,y = integrated_over_depth_masses(hist_20y_plotter)\n",
    "{**x,**y}"
   ]
  },
  {
   "cell_type": "code",
   "execution_count": 9,
   "metadata": {},
   "outputs": [
    {
     "name": "stdout",
     "output_type": "stream",
     "text": [
      "C 0.03801002370345347\n",
      "Ca3PO42_sed 316.14255558630634\n",
      "Chl 0.10969505510142809\n",
      "DOP 1.2315865817919451\n",
      "Fe3PO42_sed 612.0429438047789\n",
      "P 1.9977184344385985\n",
      "PO4 0.49945924248570517\n",
      "PO4adsa_sed 163.34247921114283\n",
      "PO4adsb_sed 0.002078504544846659\n",
      "PO4adsc_sed 1080.6094118993067\n",
      "POP 1.7301039964545148\n",
      "POP_sed 879.1406214573602\n",
      "PP 0.046318499373317445\n"
     ]
    }
   ],
   "source": [
    "a,b = integrated_over_depth_masses(RCP8_IPSL_plotter)\n",
    "c = {**a, **b}\n",
    "for k in sorted(c):\n",
    "    s=0\n",
    "    for scen in scenarios:\n",
    "        x,y = integrated_over_depth_masses(scen)\n",
    "        s+={**x, **y}[k]\n",
    "    print(k, s/len(scenarios))"
   ]
  },
  {
   "cell_type": "code",
   "execution_count": 12,
   "metadata": {},
   "outputs": [
    {
     "name": "stdout",
     "output_type": "stream",
     "text": [
      "R31a: -30.743\n",
      "R32a: -0.000\n",
      "R33a: -0.045\n",
      "R33b: 2.531\n",
      "R34a: -5.931\n",
      "R34b: 0.199\n",
      "R35a: -0.003\n",
      "Ra: 2.082\n",
      "Rf: 0.047\n",
      "Rc: 0.000\n",
      "R3a_P: 11.071\n",
      "R3b_P: 22.579\n",
      "R3f_P: 0.127\n",
      "R3c_P: 0.000\n",
      "R4a_P: 0.000\n",
      "R4b_P: 0.000\n",
      "R4f_P: 0.000\n",
      "R4c_P: 0.000\n",
      "sum: 1.916\n"
     ]
    }
   ],
   "source": [
    "P_rates_sediments(hist_20y_plotter)"
   ]
  },
  {
   "cell_type": "code",
   "execution_count": 14,
   "metadata": {},
   "outputs": [
    {
     "name": "stdout",
     "output_type": "stream",
     "text": [
      "R31a: -28.647\n",
      "R32a: -0.000\n",
      "R33a: -0.010\n",
      "R33b: 3.031\n",
      "R34a: -6.328\n",
      "R34b: 0.199\n",
      "R35a: -0.002\n",
      "Ra: 2.162\n",
      "Rf: 0.044\n",
      "Rc: 0.000\n",
      "R3a_P: 10.527\n",
      "R3b_P: 21.045\n",
      "R3f_P: 0.113\n",
      "R3c_P: 0.000\n",
      "R4a_P: 0.000\n",
      "R4b_P: 0.000\n",
      "R4f_P: 0.000\n",
      "R4c_P: 0.000\n",
      "sum: 2.134\n"
     ]
    },
    {
     "ename": "TypeError",
     "evalue": "'NoneType' object is not iterable",
     "output_type": "error",
     "traceback": [
      "\u001b[0;31m---------------------------------------------------------------------------\u001b[0m",
      "\u001b[0;31mTypeError\u001b[0m                                 Traceback (most recent call last)",
      "\u001b[0;32m<ipython-input-14-0e997ac98fe8>\u001b[0m in \u001b[0;36m<module>\u001b[0;34m()\u001b[0m\n\u001b[0;32m----> 1\u001b[0;31m \u001b[0;32mfor\u001b[0m \u001b[0mk\u001b[0m \u001b[0;32min\u001b[0m \u001b[0msorted\u001b[0m\u001b[0;34m(\u001b[0m\u001b[0mP_rates_sediments\u001b[0m\u001b[0;34m(\u001b[0m\u001b[0mRCP8_IPSL_plotter\u001b[0m\u001b[0;34m)\u001b[0m\u001b[0;34m)\u001b[0m\u001b[0;34m:\u001b[0m\u001b[0;34m\u001b[0m\u001b[0m\n\u001b[0m\u001b[1;32m      2\u001b[0m     \u001b[0ms\u001b[0m\u001b[0;34m=\u001b[0m\u001b[0;36m0\u001b[0m\u001b[0;34m\u001b[0m\u001b[0m\n\u001b[1;32m      3\u001b[0m     \u001b[0;32mfor\u001b[0m \u001b[0mscen\u001b[0m \u001b[0;32min\u001b[0m \u001b[0mscenarios\u001b[0m\u001b[0;34m:\u001b[0m\u001b[0;34m\u001b[0m\u001b[0m\n\u001b[1;32m      4\u001b[0m         \u001b[0ms\u001b[0m\u001b[0;34m+=\u001b[0m\u001b[0mP_rates_sediments\u001b[0m\u001b[0;34m(\u001b[0m\u001b[0mscen\u001b[0m\u001b[0;34m)\u001b[0m\u001b[0;34m[\u001b[0m\u001b[0mk\u001b[0m\u001b[0;34m]\u001b[0m\u001b[0;34m\u001b[0m\u001b[0m\n\u001b[1;32m      5\u001b[0m     \u001b[0mprint\u001b[0m\u001b[0;34m(\u001b[0m\u001b[0mk\u001b[0m\u001b[0;34m,\u001b[0m \u001b[0ms\u001b[0m\u001b[0;34m/\u001b[0m\u001b[0mlen\u001b[0m\u001b[0;34m(\u001b[0m\u001b[0mscenarios\u001b[0m\u001b[0;34m)\u001b[0m\u001b[0;34m)\u001b[0m\u001b[0;34m\u001b[0m\u001b[0m\n",
      "\u001b[0;31mTypeError\u001b[0m: 'NoneType' object is not iterable"
     ]
    }
   ],
   "source": [
    "for k in sorted(P_rates_sediments(RCP8_IPSL_plotter)):\n",
    "    s=0\n",
    "    for scen in scenarios:\n",
    "        s+=P_rates_sediments(scen)[k]\n",
    "    print(k, s/len(scenarios))"
   ]
  },
  {
   "cell_type": "code",
   "execution_count": 15,
   "metadata": {},
   "outputs": [
    {
     "name": "stdout",
     "output_type": "stream",
     "text": [
      "Re: 0.559\n",
      "Rc: 0.457\n",
      "Growth_bioz: -2.810\n",
      "Loss_bioz: 6.634\n",
      "R31a: -0.343\n",
      "R32a: -0.000\n",
      "R33a: -0.000\n",
      "R34a: -0.000\n",
      "sum: 4.497\n"
     ]
    }
   ],
   "source": [
    "P_wc_rates(hist_20y_plotter)"
   ]
  },
  {
   "cell_type": "code",
   "execution_count": 16,
   "metadata": {},
   "outputs": [
    {
     "name": "stdout",
     "output_type": "stream",
     "text": [
      "Re: 0.573\n",
      "Rc: 0.480\n",
      "Growth_bioz: -3.745\n",
      "Loss_bioz: 7.843\n",
      "R31a: -0.257\n",
      "R32a: -0.000\n",
      "R33a: -0.000\n",
      "R34a: -0.000\n",
      "sum: 4.894\n"
     ]
    },
    {
     "ename": "TypeError",
     "evalue": "'NoneType' object is not iterable",
     "output_type": "error",
     "traceback": [
      "\u001b[0;31m---------------------------------------------------------------------------\u001b[0m",
      "\u001b[0;31mTypeError\u001b[0m                                 Traceback (most recent call last)",
      "\u001b[0;32m<ipython-input-16-ada89d1d8683>\u001b[0m in \u001b[0;36m<module>\u001b[0;34m()\u001b[0m\n\u001b[0;32m----> 1\u001b[0;31m \u001b[0;32mfor\u001b[0m \u001b[0mk\u001b[0m \u001b[0;32min\u001b[0m \u001b[0msorted\u001b[0m\u001b[0;34m(\u001b[0m\u001b[0mP_wc_rates\u001b[0m\u001b[0;34m(\u001b[0m\u001b[0mRCP8_IPSL_plotter\u001b[0m\u001b[0;34m)\u001b[0m\u001b[0;34m)\u001b[0m\u001b[0;34m:\u001b[0m\u001b[0;34m\u001b[0m\u001b[0m\n\u001b[0m\u001b[1;32m      2\u001b[0m     \u001b[0ms\u001b[0m\u001b[0;34m=\u001b[0m\u001b[0;36m0\u001b[0m\u001b[0;34m\u001b[0m\u001b[0m\n\u001b[1;32m      3\u001b[0m     \u001b[0;32mfor\u001b[0m \u001b[0mscen\u001b[0m \u001b[0;32min\u001b[0m \u001b[0mscenarios\u001b[0m\u001b[0;34m:\u001b[0m\u001b[0;34m\u001b[0m\u001b[0m\n\u001b[1;32m      4\u001b[0m         \u001b[0ms\u001b[0m\u001b[0;34m+=\u001b[0m\u001b[0mP_wc_rates\u001b[0m\u001b[0;34m(\u001b[0m\u001b[0mscen\u001b[0m\u001b[0;34m)\u001b[0m\u001b[0;34m[\u001b[0m\u001b[0mk\u001b[0m\u001b[0;34m]\u001b[0m\u001b[0;34m\u001b[0m\u001b[0m\n\u001b[1;32m      5\u001b[0m     \u001b[0mprint\u001b[0m\u001b[0;34m(\u001b[0m\u001b[0mk\u001b[0m\u001b[0;34m,\u001b[0m \u001b[0ms\u001b[0m\u001b[0;34m/\u001b[0m\u001b[0mlen\u001b[0m\u001b[0;34m(\u001b[0m\u001b[0mscenarios\u001b[0m\u001b[0;34m)\u001b[0m\u001b[0;34m)\u001b[0m\u001b[0;34m\u001b[0m\u001b[0m\n",
      "\u001b[0;31mTypeError\u001b[0m: 'NoneType' object is not iterable"
     ]
    }
   ],
   "source": [
    "for k in sorted(P_wc_rates(RCP8_IPSL_plotter)):\n",
    "    s=0\n",
    "    for scen in scenarios:\n",
    "        s+=P_wc_rates(scen)[k]\n",
    "    print(k, s/len(scenarios))"
   ]
  },
  {
   "cell_type": "code",
   "execution_count": null,
   "metadata": {
    "collapsed": true
   },
   "outputs": [],
   "source": []
  }
 ],
 "metadata": {
  "kernelspec": {
   "display_name": "Python 3",
   "language": "python",
   "name": "python3"
  },
  "language_info": {
   "codemirror_mode": {
    "name": "ipython",
    "version": 3
   },
   "file_extension": ".py",
   "mimetype": "text/x-python",
   "name": "python",
   "nbconvert_exporter": "python",
   "pygments_lexer": "ipython3",
   "version": "3.6.6"
  }
 },
 "nbformat": 4,
 "nbformat_minor": 2
}
